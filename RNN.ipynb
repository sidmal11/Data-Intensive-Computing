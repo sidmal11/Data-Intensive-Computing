{
  "nbformat": 4,
  "nbformat_minor": 0,
  "metadata": {
    "colab": {
      "name": "RNN.ipynb",
      "provenance": [],
      "collapsed_sections": []
    },
    "kernelspec": {
      "name": "python3",
      "display_name": "Python 3"
    },
    "accelerator": "GPU"
  },
  "cells": [
    {
      "cell_type": "code",
      "metadata": {
        "id": "FzXLCD2lV8vd"
      },
      "source": [
        "import os\n",
        "\n",
        "import numpy as np\n",
        "import random\n",
        "import matplotlib.pyplot as plt\n",
        "\n",
        "import torch\n",
        "import torch.nn as nn\n",
        "import torch.nn.functional as F\n",
        "import torch.optim as optim\n",
        "\n",
        "use_cuda = True"
      ],
      "execution_count": 1,
      "outputs": []
    },
    {
      "cell_type": "code",
      "metadata": {
        "id": "e0khpk4PV_7q"
      },
      "source": [
        "def plot_fit_history(history):\n",
        "  tr_acc = history['acc']\n",
        "  val_acc = history['val_acc']\n",
        "  tr_loss = history['loss']\n",
        "  val_loss = history['val_loss']\n",
        "  epochs_range = range(1, len(tr_acc) + 1)\n",
        "  fig, ax1 = plt.subplots()\n",
        "\n",
        "  color = 'tab:red'\n",
        "  ax1.set_xlabel('Epochs')\n",
        "  ax1.set_ylabel('Loss', color=color)\n",
        "  l1, = ax1.plot(epochs_range, tr_loss, 's:', color=color, label='Training Loss', markeredgewidth=1, fillstyle='none')\n",
        "  l2, = ax1.plot(epochs_range, val_loss, 'o-', color=color, label='Validation Loss')\n",
        "  ax1.tick_params(axis='y', labelcolor=color, grid_color=color, grid_linestyle=':')\n",
        "\n",
        "  ax2 = ax1.twinx()  # instantiate a second axes that shares the same x-axis\n",
        "\n",
        "  color = 'tab:blue'\n",
        "  ax2.set_ylabel('Accuracy', color=color)  # we already handled the x-label with ax1\n",
        "  l3, = ax2.plot(epochs_range, tr_acc, 's:', color=color, label='Training Acc', markeredgewidth=1, fillstyle='none')\n",
        "  l4, = ax2.plot(epochs_range, val_acc, 'o-', color=color, label='Validation Acc')\n",
        "  ax2.tick_params(axis='y', labelcolor=color, grid_color=color, grid_linestyle=':')\n",
        "\n",
        "  fig.tight_layout()  # otherwise the right y-label is slightly clipped\n",
        "  \n",
        "  plt.legend((l1, l2, l3, l4), ('Training Loss', 'Validation Loss', 'Training Acc', 'Validation Acc'), loc=(1.2,0.5))\n",
        "  plt.show()"
      ],
      "execution_count": 2,
      "outputs": []
    },
    {
      "cell_type": "code",
      "metadata": {
        "colab": {
          "base_uri": "https://localhost:8080/"
        },
        "id": "vj-WB9k8WCMF",
        "outputId": "a33b910f-a26f-4dcc-95e6-d8c11405912d"
      },
      "source": [
        "if not os.path.isfile('music.txt'): \n",
        "  !wget https://raw.githubusercontent.com/cedricdeboom/character-level-rnn-datasets/master/datasets/music.txt\n",
        "!ls"
      ],
      "execution_count": 3,
      "outputs": [
        {
          "output_type": "stream",
          "text": [
            "--2020-11-23 21:41:24--  https://raw.githubusercontent.com/cedricdeboom/character-level-rnn-datasets/master/datasets/music.txt\n",
            "Resolving raw.githubusercontent.com (raw.githubusercontent.com)... 151.101.0.133, 151.101.64.133, 151.101.128.133, ...\n",
            "Connecting to raw.githubusercontent.com (raw.githubusercontent.com)|151.101.0.133|:443... connected.\n",
            "HTTP request sent, awaiting response... 200 OK\n",
            "Length: 4659855 (4.4M) [text/plain]\n",
            "Saving to: ‘music.txt’\n",
            "\n",
            "music.txt           100%[===================>]   4.44M  --.-KB/s    in 0.1s    \n",
            "\n",
            "2020-11-23 21:41:25 (34.5 MB/s) - ‘music.txt’ saved [4659855/4659855]\n",
            "\n",
            "music.txt  sample_data\n"
          ],
          "name": "stdout"
        }
      ]
    },
    {
      "cell_type": "code",
      "metadata": {
        "colab": {
          "base_uri": "https://localhost:8080/"
        },
        "id": "r97LSHdeWE8n",
        "outputId": "d314b20d-e4ec-42cc-ba61-7ca696d6db2d"
      },
      "source": [
        "class DataSet:\n",
        "  def __init__(self, songs):\n",
        "    # list of songs\n",
        "    self.s = songs\n",
        "    # number of notes in each song\n",
        "    self.n_s = []\n",
        "    for s0 in songs:\n",
        "      self.n_s.append(s0.shape[0])\n",
        "    self.n_s = np.array(self.n_s)\n",
        "    # total number of notes in all songs\n",
        "    self.n_t = self.n_s.sum()\n",
        "    # number of songs\n",
        "    self.n_n = len(self.s)\n",
        "    # all nodes as one sequence\n",
        "    self.orig_data = np.concatenate(self.s)\n",
        "\n",
        "# list of all songs from the datafile\n",
        "s = []\n",
        "\n",
        "with open('music.txt') as fp:\n",
        "  for cnt, line in enumerate(fp):\n",
        "    s0 = np.fromstring(line, sep=\" \", dtype=int)\n",
        "    s.append(s0)\n",
        "\n",
        "full_set = DataSet(s)\n",
        "\n",
        "print(full_set.n_t)\n",
        "\n",
        "print(full_set.orig_data.shape)"
      ],
      "execution_count": 4,
      "outputs": [
        {
          "output_type": "stream",
          "text": [
            "1553149\n",
            "(1553149,)\n"
          ],
          "name": "stdout"
        }
      ]
    },
    {
      "cell_type": "code",
      "metadata": {
        "colab": {
          "base_uri": "https://localhost:8080/"
        },
        "id": "yJrKPcrAWIkW",
        "outputId": "30308f32-6b82-4a90-c8bb-32e8d0c49292"
      },
      "source": [
        "# class index to class label mapping\n",
        "data_dict = np.unique(full_set.orig_data);\n",
        "\n",
        "dim = len(data_dict)\n",
        "\n",
        "# class label to class index mapping\n",
        "label_to_int = dict((l, i) for i, l in enumerate(data_dict))\n",
        "\n",
        "# one-hot encoding from class indices\n",
        "def get_one_hot(targets, nb_classes):\n",
        "    res = np.eye(nb_classes)[targets]\n",
        "    return res.reshape(list(targets.shape)+[nb_classes])\n",
        "\n",
        "# encoding full DataSet\n",
        "# by adding new attributes to the data structure\n",
        "full_set.int_s = []\n",
        "full_set.one_hot_s = []\n",
        "for s0 in full_set.s:\n",
        "  int_tmp = np.array([label_to_int[l] for l in s0], dtype=int)\n",
        "  # data as class indices\n",
        "  full_set.int_s.append(int_tmp)\n",
        "  # data as one-hot vectors\n",
        "  full_set.one_hot_s.append(get_one_hot(int_tmp, dim))\n",
        "\n",
        "print(full_set.one_hot_s[0].shape)"
      ],
      "execution_count": 5,
      "outputs": [
        {
          "output_type": "stream",
          "text": [
            "(1004, 89)\n"
          ],
          "name": "stdout"
        }
      ]
    },
    {
      "cell_type": "code",
      "metadata": {
        "id": "cDk_VcwaWLOa"
      },
      "source": [
        "n_validation_songs = 100\n",
        "\n",
        "val_d = DataSet(s[0:n_validation_songs])\n",
        "val_d.int_s = full_set.int_s[0:n_validation_songs]\n",
        "val_d.one_hot_s = full_set.one_hot_s[0:n_validation_songs]\n",
        "\n",
        "tr_d =  DataSet(s[n_validation_songs:])\n",
        "tr_d.int_s = full_set.int_s[n_validation_songs:]\n",
        "tr_d.one_hot_s = full_set.one_hot_s[n_validation_songs:]"
      ],
      "execution_count": 6,
      "outputs": []
    },
    {
      "cell_type": "code",
      "metadata": {
        "colab": {
          "base_uri": "https://localhost:8080/"
        },
        "id": "Qq2_Ye3DWN4Z",
        "outputId": "c56e3683-18bd-4e9d-e27d-8e1dd12666b6"
      },
      "source": [
        "print(val_d.one_hot_s[0].shape)"
      ],
      "execution_count": 7,
      "outputs": [
        {
          "output_type": "stream",
          "text": [
            "(1004, 89)\n"
          ],
          "name": "stdout"
        }
      ]
    },
    {
      "cell_type": "code",
      "metadata": {
        "id": "wurqbFAqWPsH"
      },
      "source": [
        "batch = 64\n",
        "timelapse = 32\n",
        "\n",
        "def generator(data, b=batch, t=timelapse):\n",
        "  n_t_p = data.n_t - data.n_n*(t+1)\n",
        "  n_s_p = data.n_s - (t+1)\n",
        "  while True:\n",
        "    samples = np.zeros((b, t, dim))\n",
        "    targets = np.zeros((b)) \n",
        "    for k in range (b):\n",
        "      i = random.randrange(0, n_t_p)\n",
        "      j = 0;\n",
        "      while i >= n_s_p[j]:\n",
        "         i -= n_s_p[j]\n",
        "         j += 1\n",
        "      samples[k] = data.one_hot_s[j][i:i+t]\n",
        "      targets[k] = data.int_s[j][i+t]\n",
        "\n",
        "    yield samples, targets"
      ],
      "execution_count": 8,
      "outputs": []
    },
    {
      "cell_type": "code",
      "metadata": {
        "id": "Pgv1gYe_WS6S"
      },
      "source": [
        "class Model(nn.Module):\n",
        "\n",
        "    def __init__(self, input_dim, hidden_dim, batch_size, output_dim=1,\n",
        "                    num_layers=2):\n",
        "        super(Model, self).__init__()\n",
        "        self.input_dim = input_dim\n",
        "        self.hidden_dim = hidden_dim\n",
        "        self.batch_size = batch_size\n",
        "        self.output_dim = output_dim\n",
        "        self.num_layers = num_layers\n",
        "        self.hidden = self.init_hidden()\n",
        "\n",
        "        # Define the LSTM layer\n",
        "        self.lstm = nn.LSTM(self.input_dim, self.hidden_dim, self.num_layers)\n",
        "\n",
        "        # Define the dense layer\n",
        "        self.linear = nn.Linear(self.hidden_dim, output_dim)\n",
        "\n",
        "    def init_hidden(self):\n",
        "        # This is what we'll initialise our hidden state as\n",
        "        return (torch.zeros(self.num_layers, self.batch_size, self.hidden_dim),\n",
        "                torch.zeros(self.num_layers, self.batch_size, self.hidden_dim))\n",
        "\n",
        "    def forward(self, input):\n",
        "        lstm_out, self.hidden = self.lstm(input.view(-1, self.batch_size, self.input_dim))\n",
        "        y_pred = self.linear(lstm_out[-1].view(self.batch_size, -1))\n",
        "        return y_pred"
      ],
      "execution_count": 9,
      "outputs": []
    },
    {
      "cell_type": "code",
      "metadata": {
        "id": "Cr1yfoJsWU4_"
      },
      "source": [
        "sample_size = tr_d.n_t - timelapse*tr_d.n_n\n",
        "val_size = val_d.n_t - timelapse*val_d.n_n\n",
        "\n",
        "h_dim = 256\n",
        "model = Model(dim, h_dim, batch, dim, 2)\n",
        "if use_cuda and torch.cuda.is_available():\n",
        "    model.cuda()"
      ],
      "execution_count": 10,
      "outputs": []
    },
    {
      "cell_type": "code",
      "metadata": {
        "id": "gPCAwnfVWWWN"
      },
      "source": [
        "learning_rate = 0.001\n",
        "\n",
        "loss_fn = nn.CrossEntropyLoss()\n",
        "optimiser = optim.RMSprop(model.parameters(), lr=learning_rate)"
      ],
      "execution_count": 11,
      "outputs": []
    },
    {
      "cell_type": "code",
      "metadata": {
        "id": "oeg2W6YYWX3W"
      },
      "source": [
        "hist = {\"acc\": [], \"loss\": [], \"val_loss\": [], \"val_acc\": []}\n",
        "\n",
        "\n",
        "def train(num_epochs, tr_gen, val_gen):\n",
        "  for t in range(num_epochs):\n",
        "    correct = 0\n",
        "    total = 0\n",
        "    for b1 in range(0, sample_size, batch*timelapse):\n",
        "      \n",
        "      # Clear stored gradient\n",
        "      model.zero_grad()\n",
        "      optimiser.zero_grad()\n",
        "\n",
        "      # Forward pass\n",
        "      x_batch, y_batch = next(tr_gen)\n",
        "      x_batch = torch.from_numpy(np.swapaxes(x_batch, 0, 1)).float()\n",
        "      y_batch = torch.from_numpy(y_batch).long()\n",
        "      if use_cuda and torch.cuda.is_available():\n",
        "        x_batch = x_batch.cuda()\n",
        "        y_batch = y_batch.cuda()\n",
        "      y_pred = model(x_batch)\n",
        "      _, predicted = torch.max(y_pred.data, 1)\n",
        "      labels = y_batch\n",
        "      correct += (predicted.cpu() == labels.cpu()).sum()\n",
        "      total += labels.size(0)\n",
        "      loss = loss_fn(y_pred, y_batch)\n",
        "      if b1 == 0:\n",
        "        # print(y_pred.shape)\n",
        "        print(\"Epoch \", t, \"Loss: \", loss.item())\n",
        "      currloss = loss.item()\n",
        "\n",
        "      # Backward pass\n",
        "      loss.backward()\n",
        "\n",
        "      # Update parameters\n",
        "      optimiser.step()\n",
        "    \n",
        "    accuracy = 100 * correct.item() / total\n",
        "    hist[\"loss\"].append(currloss)\n",
        "    hist[\"acc\"].append(accuracy)\n",
        "    print(\"acc: \", accuracy)\n",
        "\n",
        "    # Validation\n",
        "    correct = 0\n",
        "    total = 0\n",
        "    loss = 0\n",
        "    n_b = 0\n",
        "    with torch.no_grad():\n",
        "      for b in range(0, val_size, batch*timelapse):\n",
        "        x_batch, y_batch = next(val_gen)\n",
        "        x_batch = torch.from_numpy(np.swapaxes(x_batch, 0, 1)).float()\n",
        "        y_batch = torch.from_numpy(y_batch).long()\n",
        "        if use_cuda and torch.cuda.is_available():\n",
        "          x_batch = x_batch.cuda()\n",
        "          y_batch = y_batch.cuda()\n",
        "        y_pred = model(x_batch)\n",
        "        _, predicted = torch.max(y_pred.data, 1)\n",
        "        labels = y_batch\n",
        "        correct += (predicted.cpu() == labels.cpu()).sum()\n",
        "        total += labels.size(0)\n",
        "        loss += loss_fn(y_pred, y_batch)\n",
        "        n_b += 1\n",
        "      accuracy = 100 * correct.item() / total\n",
        "      loss = loss.item() / n_b \n",
        "    hist[\"val_loss\"].append(loss)\n",
        "    hist[\"val_acc\"].append(accuracy)\n",
        "    print(\"Val acc: \", accuracy, \"Val loss: \", loss)"
      ],
      "execution_count": 12,
      "outputs": []
    },
    {
      "cell_type": "code",
      "metadata": {
        "id": "HT4ZkhLJWZp8"
      },
      "source": [
        "gen = generator(tr_d)\n",
        "vgen = generator(val_d)"
      ],
      "execution_count": 13,
      "outputs": []
    },
    {
      "cell_type": "code",
      "metadata": {
        "colab": {
          "base_uri": "https://localhost:8080/"
        },
        "id": "7pAqFgMaWbRm",
        "outputId": "a582a751-075d-496c-cc07-6294aa726e25"
      },
      "source": [
        "train(60, gen, vgen)"
      ],
      "execution_count": 14,
      "outputs": [
        {
          "output_type": "stream",
          "text": [
            "Epoch  0 Loss:  4.491116046905518\n",
            "acc:  5.104166666666667\n",
            "Val acc:  7.421875 Val loss:  3.473607149991122\n",
            "Epoch  1 Loss:  3.571568727493286\n",
            "acc:  8.089539007092199\n",
            "Val acc:  8.735795454545455 Val loss:  3.344890594482422\n",
            "Epoch  2 Loss:  3.325571298599243\n",
            "acc:  9.652039007092199\n",
            "Val acc:  9.161931818181818 Val loss:  3.2685775756835938\n",
            "Epoch  3 Loss:  3.3116962909698486\n",
            "acc:  10.824468085106384\n",
            "Val acc:  9.588068181818182 Val loss:  3.220408006147905\n",
            "Epoch  4 Loss:  3.3320016860961914\n",
            "acc:  11.93040780141844\n",
            "Val acc:  10.262784090909092 Val loss:  3.166618000377308\n",
            "Epoch  5 Loss:  3.1565351486206055\n",
            "acc:  12.57313829787234\n",
            "Val acc:  12.073863636363637 Val loss:  3.149910666725852\n",
            "Epoch  6 Loss:  3.2843778133392334\n",
            "acc:  13.687943262411348\n",
            "Val acc:  12.002840909090908 Val loss:  3.0892989418723364\n",
            "Epoch  7 Loss:  3.0941922664642334\n",
            "acc:  14.018173758865249\n",
            "Val acc:  14.133522727272727 Val loss:  3.0331074107776987\n",
            "Epoch  8 Loss:  3.115382671356201\n",
            "acc:  15.498670212765957\n",
            "Val acc:  15.234375 Val loss:  3.01169170032848\n",
            "Epoch  9 Loss:  2.9122891426086426\n",
            "acc:  16.292109929078013\n",
            "Val acc:  16.654829545454547 Val loss:  2.9592097889293325\n",
            "Epoch  10 Loss:  3.0200881958007812\n",
            "acc:  17.238475177304963\n",
            "Val acc:  16.335227272727273 Val loss:  2.99464936689897\n",
            "Epoch  11 Loss:  2.9805240631103516\n",
            "acc:  18.257978723404257\n",
            "Val acc:  17.897727272727273 Val loss:  2.937781247225675\n",
            "Epoch  12 Loss:  2.8264729976654053\n",
            "acc:  19.27304964539007\n",
            "Val acc:  20.383522727272727 Val loss:  2.8589914495294746\n",
            "Epoch  13 Loss:  2.997425079345703\n",
            "acc:  20.141843971631207\n",
            "Val acc:  20.20596590909091 Val loss:  2.83432353626598\n",
            "Epoch  14 Loss:  2.9088551998138428\n",
            "acc:  21.409574468085108\n",
            "Val acc:  20.880681818181817 Val loss:  2.823707927357067\n",
            "Epoch  15 Loss:  2.946312665939331\n",
            "acc:  21.804078014184398\n",
            "Val acc:  19.389204545454547 Val loss:  2.881681268865412\n",
            "Epoch  16 Loss:  3.012024402618408\n",
            "acc:  22.47340425531915\n",
            "Val acc:  19.921875 Val loss:  2.824978915127841\n",
            "Epoch  17 Loss:  2.6768717765808105\n",
            "acc:  23.02526595744681\n",
            "Val acc:  19.992897727272727 Val loss:  2.8047183643687856\n",
            "Epoch  18 Loss:  2.6752188205718994\n",
            "acc:  23.73005319148936\n",
            "Val acc:  21.271306818181817 Val loss:  2.774665659124201\n",
            "Epoch  19 Loss:  2.8410232067108154\n",
            "acc:  24.113475177304963\n",
            "Val acc:  20.41903409090909 Val loss:  2.7880862842906606\n",
            "Epoch  20 Loss:  3.0236847400665283\n",
            "acc:  25.024379432624112\n",
            "Val acc:  21.946022727272727 Val loss:  2.773895263671875\n",
            "Epoch  21 Loss:  2.5273890495300293\n",
            "acc:  25.45212765957447\n",
            "Val acc:  21.76846590909091 Val loss:  2.7576847076416016\n",
            "Epoch  22 Loss:  2.4547078609466553\n",
            "acc:  25.738031914893618\n",
            "Val acc:  21.910511363636363 Val loss:  2.7635426954789595\n",
            "Epoch  23 Loss:  2.830448627471924\n",
            "acc:  26.14140070921986\n",
            "Val acc:  21.946022727272727 Val loss:  2.787397037852894\n",
            "Epoch  24 Loss:  2.4725747108459473\n",
            "acc:  26.704343971631207\n",
            "Val acc:  22.407670454545453 Val loss:  2.737985610961914\n",
            "Epoch  25 Loss:  2.7126543521881104\n",
            "acc:  26.963652482269502\n",
            "Val acc:  22.123579545454547 Val loss:  2.768932169133967\n",
            "Epoch  26 Loss:  2.750396251678467\n",
            "acc:  27.43351063829787\n",
            "Val acc:  22.088068181818183 Val loss:  2.742432334206321\n",
            "Epoch  27 Loss:  2.768634796142578\n",
            "acc:  27.548758865248228\n",
            "Val acc:  23.117897727272727 Val loss:  2.7429561614990234\n",
            "Epoch  28 Loss:  2.895498275756836\n",
            "acc:  28.03191489361702\n",
            "Val acc:  24.289772727272727 Val loss:  2.6842337521639736\n",
            "Epoch  29 Loss:  2.7657742500305176\n",
            "acc:  28.599290780141843\n",
            "Val acc:  23.899147727272727 Val loss:  2.712430780584162\n",
            "Epoch  30 Loss:  2.6547255516052246\n",
            "acc:  29.102393617021278\n",
            "Val acc:  22.94034090909091 Val loss:  2.735013961791992\n",
            "Epoch  31 Loss:  2.7523367404937744\n",
            "acc:  29.18218085106383\n",
            "Val acc:  23.224431818181817 Val loss:  2.7022533416748047\n",
            "Epoch  32 Loss:  2.597996711730957\n",
            "acc:  29.417109929078013\n",
            "Val acc:  23.615056818181817 Val loss:  2.689082232388583\n",
            "Epoch  33 Loss:  2.745649576187134\n",
            "acc:  29.66755319148936\n",
            "Val acc:  22.94034090909091 Val loss:  2.7458459680730645\n",
            "Epoch  34 Loss:  2.6578989028930664\n",
            "acc:  29.82491134751773\n",
            "Val acc:  23.401988636363637 Val loss:  2.693446072665128\n",
            "Epoch  35 Loss:  2.299075126647949\n",
            "acc:  30.299202127659573\n",
            "Val acc:  24.964488636363637 Val loss:  2.6934485001997515\n",
            "Epoch  36 Loss:  2.4431521892547607\n",
            "acc:  30.290336879432623\n",
            "Val acc:  21.803977272727273 Val loss:  2.7210506092418325\n",
            "Epoch  37 Loss:  2.51214599609375\n",
            "acc:  30.84441489361702\n",
            "Val acc:  23.863636363636363 Val loss:  2.6908512115478516\n",
            "Epoch  38 Loss:  2.5160012245178223\n",
            "acc:  30.84663120567376\n",
            "Val acc:  24.32528409090909 Val loss:  2.729076558893377\n",
            "Epoch  39 Loss:  2.611957550048828\n",
            "acc:  31.207890070921987\n",
            "Val acc:  24.786931818181817 Val loss:  2.661597165194425\n",
            "Epoch  40 Loss:  2.2378017902374268\n",
            "acc:  31.61790780141844\n",
            "Val acc:  23.792613636363637 Val loss:  2.7055397033691406\n",
            "Epoch  41 Loss:  2.6247520446777344\n",
            "acc:  31.64671985815603\n",
            "Val acc:  24.254261363636363 Val loss:  2.6985409476540307\n",
            "Epoch  42 Loss:  2.358689069747925\n",
            "acc:  31.68218085106383\n",
            "Val acc:  22.904829545454547 Val loss:  2.7025283466685903\n",
            "Epoch  43 Loss:  2.504178047180176\n",
            "acc:  31.65336879432624\n",
            "Val acc:  24.964488636363637 Val loss:  2.671006116000089\n",
            "Epoch  44 Loss:  3.0844430923461914\n",
            "acc:  32.420212765957444\n",
            "Val acc:  24.786931818181817 Val loss:  2.6642757762562144\n",
            "Epoch  45 Loss:  2.4865798950195312\n",
            "acc:  32.48005319148936\n",
            "Val acc:  24.609375 Val loss:  2.672348369251598\n",
            "Epoch  46 Loss:  2.395353317260742\n",
            "acc:  32.695035460992905\n",
            "Val acc:  24.041193181818183 Val loss:  2.6909462321888316\n",
            "Epoch  47 Loss:  2.4872684478759766\n",
            "acc:  33.1072695035461\n",
            "Val acc:  24.467329545454547 Val loss:  2.689035415649414\n",
            "Epoch  48 Loss:  2.2799596786499023\n",
            "acc:  32.87234042553192\n",
            "Val acc:  22.407670454545453 Val loss:  2.7417749925093218\n",
            "Epoch  49 Loss:  2.3897595405578613\n",
            "acc:  33.136081560283685\n",
            "Val acc:  23.473011363636363 Val loss:  2.7133105884898794\n",
            "Epoch  50 Loss:  2.4560251235961914\n",
            "acc:  33.5084219858156\n",
            "Val acc:  25.78125 Val loss:  2.648381319912997\n",
            "Epoch  51 Loss:  2.54723858833313\n",
            "acc:  33.93617021276596\n",
            "Val acc:  24.289772727272727 Val loss:  2.735938158902255\n",
            "Epoch  52 Loss:  2.2042882442474365\n",
            "acc:  33.6258865248227\n",
            "Val acc:  24.041193181818183 Val loss:  2.6822195920077236\n",
            "Epoch  53 Loss:  2.6342577934265137\n",
            "acc:  33.73005319148936\n",
            "Val acc:  25.071022727272727 Val loss:  2.6684386513449927\n",
            "Epoch  54 Loss:  2.402857542037964\n",
            "acc:  33.95390070921986\n",
            "Val acc:  24.71590909090909 Val loss:  2.6773750998757104\n",
            "Epoch  55 Loss:  2.347508430480957\n",
            "acc:  34.33732269503546\n",
            "Val acc:  23.473011363636363 Val loss:  2.7093656713312324\n",
            "Epoch  56 Loss:  2.364396095275879\n",
            "acc:  34.093528368794324\n",
            "Val acc:  25.213068181818183 Val loss:  2.6530916040593926\n",
            "Epoch  57 Loss:  2.502958059310913\n",
            "acc:  34.5988475177305\n",
            "Val acc:  25.177556818181817 Val loss:  2.6711240248246626\n",
            "Epoch  58 Loss:  2.6378841400146484\n",
            "acc:  34.96232269503546\n",
            "Val acc:  24.822443181818183 Val loss:  2.698740178888494\n",
            "Epoch  59 Loss:  2.5037307739257812\n",
            "acc:  35.2947695035461\n",
            "Val acc:  25.710227272727273 Val loss:  2.6526243036443535\n"
          ],
          "name": "stdout"
        }
      ]
    },
    {
      "cell_type": "code",
      "metadata": {
        "colab": {
          "base_uri": "https://localhost:8080/"
        },
        "id": "LClEaj43Wc--",
        "outputId": "d60a6876-caa7-43a7-c973-be6f33784b7c"
      },
      "source": [
        "for param_group in optimiser.param_groups:\n",
        "        param_group['lr'] = learning_rate/3\n",
        "train(25, gen, vgen)"
      ],
      "execution_count": 15,
      "outputs": [
        {
          "output_type": "stream",
          "text": [
            "Epoch  0 Loss:  2.2516565322875977\n",
            "acc:  35.90425531914894\n",
            "Val acc:  25.603693181818183 Val loss:  2.6712590997869317\n",
            "Epoch  1 Loss:  2.000704765319824\n",
            "acc:  36.25443262411348\n",
            "Val acc:  24.609375 Val loss:  2.6889020746404473\n",
            "Epoch  2 Loss:  2.4500036239624023\n",
            "acc:  36.569148936170215\n",
            "Val acc:  26.27840909090909 Val loss:  2.6617681329900567\n",
            "Epoch  3 Loss:  2.5639870166778564\n",
            "acc:  37.398049645390074\n",
            "Val acc:  23.117897727272727 Val loss:  2.7203924005681817\n",
            "Epoch  4 Loss:  2.399341344833374\n",
            "acc:  37.42464539007092\n",
            "Val acc:  24.147727272727273 Val loss:  2.6522695367986504\n",
            "Epoch  5 Loss:  2.291836977005005\n",
            "acc:  37.14982269503546\n",
            "Val acc:  24.71590909090909 Val loss:  2.676571412519975\n",
            "Epoch  6 Loss:  2.4911916255950928\n",
            "acc:  37.38696808510638\n",
            "Val acc:  25.248579545454547 Val loss:  2.667924014004794\n",
            "Epoch  7 Loss:  1.9008244276046753\n",
            "acc:  37.898936170212764\n",
            "Val acc:  25.248579545454547 Val loss:  2.681618083607067\n",
            "Epoch  8 Loss:  2.434048891067505\n",
            "acc:  38.01418439716312\n",
            "Val acc:  25.994318181818183 Val loss:  2.65474440834739\n",
            "Epoch  9 Loss:  2.424121379852295\n",
            "acc:  38.14494680851064\n",
            "Val acc:  24.11221590909091 Val loss:  2.7252850966020064\n",
            "Epoch  10 Loss:  2.26684308052063\n",
            "acc:  37.90336879432624\n",
            "Val acc:  25.958806818181817 Val loss:  2.6650962829589844\n",
            "Epoch  11 Loss:  2.201618194580078\n",
            "acc:  38.25576241134752\n",
            "Val acc:  23.792613636363637 Val loss:  2.695625825361772\n",
            "Epoch  12 Loss:  2.1313352584838867\n",
            "acc:  38.7322695035461\n",
            "Val acc:  25.923295454545453 Val loss:  2.646107933738015\n",
            "Epoch  13 Loss:  2.1326119899749756\n",
            "acc:  39.0270390070922\n",
            "Val acc:  24.822443181818183 Val loss:  2.640735626220703\n",
            "Epoch  14 Loss:  2.540653705596924\n",
            "acc:  38.579343971631204\n",
            "Val acc:  27.379261363636363 Val loss:  2.6199791648171167\n",
            "Epoch  15 Loss:  1.9431062936782837\n",
            "acc:  38.94725177304964\n",
            "Val acc:  25.0 Val loss:  2.6899150501598013\n",
            "Epoch  16 Loss:  2.1515510082244873\n",
            "acc:  38.94725177304964\n",
            "Val acc:  26.526988636363637 Val loss:  2.637250553477894\n",
            "Epoch  17 Loss:  2.5064144134521484\n",
            "acc:  39.075797872340424\n",
            "Val acc:  25.28409090909091 Val loss:  2.6414357965642754\n",
            "Epoch  18 Loss:  2.266021966934204\n",
            "acc:  39.124556737588655\n",
            "Val acc:  27.23721590909091 Val loss:  2.5542385794899682\n",
            "Epoch  19 Loss:  2.631653070449829\n",
            "acc:  40.0709219858156\n",
            "Val acc:  26.5625 Val loss:  2.610022458163175\n",
            "Epoch  20 Loss:  2.264704942703247\n",
            "acc:  40.09308510638298\n",
            "Val acc:  25.461647727272727 Val loss:  2.695410294966264\n",
            "Epoch  21 Loss:  2.2890074253082275\n",
            "acc:  39.55673758865248\n",
            "Val acc:  25.461647727272727 Val loss:  2.6672826246781782\n",
            "Epoch  22 Loss:  2.2205774784088135\n",
            "acc:  39.41267730496454\n",
            "Val acc:  25.958806818181817 Val loss:  2.6950097517533735\n",
            "Epoch  23 Loss:  2.2559635639190674\n",
            "acc:  39.920212765957444\n",
            "Val acc:  25.390625 Val loss:  2.7117380662397905\n",
            "Epoch  24 Loss:  2.427558660507202\n",
            "acc:  40.03767730496454\n",
            "Val acc:  24.751420454545453 Val loss:  2.702326687899503\n"
          ],
          "name": "stdout"
        }
      ]
    },
    {
      "cell_type": "code",
      "metadata": {
        "colab": {
          "base_uri": "https://localhost:8080/"
        },
        "id": "x50rCole97zH",
        "outputId": "8d68bf88-ab10-45f0-903c-91bbe1cebb79"
      },
      "source": [
        "for param_group in optimiser.param_groups:\n",
        "        param_group['lr'] = learning_rate/9\n",
        "train(25, gen, vgen)"
      ],
      "execution_count": 16,
      "outputs": [
        {
          "output_type": "stream",
          "text": [
            "Epoch  0 Loss:  2.1625754833221436\n",
            "acc:  40.101950354609926\n",
            "Val acc:  25.852272727272727 Val loss:  2.684379230846058\n",
            "Epoch  1 Loss:  2.1382217407226562\n",
            "acc:  40.31693262411348\n",
            "Val acc:  25.852272727272727 Val loss:  2.685132633556019\n",
            "Epoch  2 Loss:  2.024211883544922\n",
            "acc:  40.3125\n",
            "Val acc:  26.242897727272727 Val loss:  2.6523021351207388\n",
            "Epoch  3 Loss:  2.4751038551330566\n",
            "acc:  40.562943262411345\n",
            "Val acc:  26.207386363636363 Val loss:  2.6441187425093218\n",
            "Epoch  4 Loss:  2.50638484954834\n",
            "acc:  40.77349290780142\n",
            "Val acc:  27.201704545454547 Val loss:  2.6244253678755327\n",
            "Epoch  5 Loss:  2.102613925933838\n",
            "acc:  40.73581560283688\n",
            "Val acc:  25.568181818181817 Val loss:  2.6707923195578833\n",
            "Epoch  6 Loss:  2.2722065448760986\n",
            "acc:  40.777925531914896\n",
            "Val acc:  27.34375 Val loss:  2.6720738844438032\n",
            "Epoch  7 Loss:  2.1871378421783447\n",
            "acc:  40.669326241134755\n",
            "Val acc:  24.396306818181817 Val loss:  2.709649519486861\n",
            "Epoch  8 Loss:  2.213632345199585\n",
            "acc:  40.613918439716315\n",
            "Val acc:  25.142045454545453 Val loss:  2.6904640197753906\n",
            "Epoch  9 Loss:  2.0663163661956787\n",
            "acc:  41.2145390070922\n",
            "Val acc:  26.45596590909091 Val loss:  2.664948203346946\n",
            "Epoch  10 Loss:  2.279527425765991\n",
            "acc:  41.281028368794324\n",
            "Val acc:  24.360795454545453 Val loss:  2.6327200802889736\n",
            "Epoch  11 Loss:  1.8625249862670898\n",
            "acc:  41.163563829787236\n",
            "Val acc:  26.029829545454547 Val loss:  2.6687816273082388\n",
            "Epoch  12 Loss:  2.4405276775360107\n",
            "acc:  40.817819148936174\n",
            "Val acc:  24.928977272727273 Val loss:  2.6992393840443003\n",
            "Epoch  13 Loss:  1.946484088897705\n",
            "acc:  41.40070921985816\n",
            "Val acc:  25.568181818181817 Val loss:  2.705440868030895\n",
            "Epoch  14 Loss:  1.755043625831604\n",
            "acc:  41.132535460992905\n",
            "Val acc:  26.5625 Val loss:  2.6494640003551138\n",
            "Epoch  15 Loss:  1.9261497259140015\n",
            "acc:  41.32313829787234\n",
            "Val acc:  25.071022727272727 Val loss:  2.673261122270064\n",
            "Epoch  16 Loss:  2.0850589275360107\n",
            "acc:  41.30984042553192\n",
            "Val acc:  24.89346590909091 Val loss:  2.7005398490212182\n",
            "Epoch  17 Loss:  1.9855316877365112\n",
            "acc:  41.39406028368794\n",
            "Val acc:  26.100852272727273 Val loss:  2.6331858201460405\n",
            "Epoch  18 Loss:  2.0179338455200195\n",
            "acc:  41.62012411347518\n",
            "Val acc:  25.532670454545453 Val loss:  2.658460270274769\n",
            "Epoch  19 Loss:  1.961384654045105\n",
            "acc:  41.753102836879435\n",
            "Val acc:  26.704545454545453 Val loss:  2.719978159124201\n",
            "Epoch  20 Loss:  2.003532648086548\n",
            "acc:  41.61347517730496\n",
            "Val acc:  25.78125 Val loss:  2.675079172307795\n",
            "Epoch  21 Loss:  2.270610809326172\n",
            "acc:  41.828457446808514\n",
            "Val acc:  25.355113636363637 Val loss:  2.6950772025368432\n",
            "Epoch  22 Loss:  2.5741748809814453\n",
            "acc:  41.221187943262414\n",
            "Val acc:  25.745738636363637 Val loss:  2.691549127752131\n",
            "Epoch  23 Loss:  2.4300696849823\n",
            "acc:  41.648936170212764\n",
            "Val acc:  25.994318181818183 Val loss:  2.6418625224720347\n",
            "Epoch  24 Loss:  1.9547206163406372\n",
            "acc:  41.5625\n",
            "Val acc:  26.100852272727273 Val loss:  2.662046432495117\n"
          ],
          "name": "stdout"
        }
      ]
    },
    {
      "cell_type": "code",
      "metadata": {
        "colab": {
          "base_uri": "https://localhost:8080/"
        },
        "id": "OIqnYs7G9_k9",
        "outputId": "73922148-486f-4a5f-9e3a-d9ce36b05987"
      },
      "source": [
        "for param_group in optimiser.param_groups:\n",
        "        param_group['lr'] = learning_rate/27\n",
        "train(25, gen, vgen)"
      ],
      "execution_count": 17,
      "outputs": [
        {
          "output_type": "stream",
          "text": [
            "Epoch  0 Loss:  1.9475514888763428\n",
            "acc:  41.996897163120565\n",
            "Val acc:  25.958806818181817 Val loss:  2.6377045024525034\n",
            "Epoch  1 Loss:  2.1999900341033936\n",
            "acc:  42.216312056737586\n",
            "Val acc:  26.526988636363637 Val loss:  2.5910365364768286\n",
            "Epoch  2 Loss:  1.919020414352417\n",
            "acc:  41.575797872340424\n",
            "Val acc:  24.89346590909091 Val loss:  2.7077192826704546\n",
            "Epoch  3 Loss:  1.9114351272583008\n",
            "acc:  41.67553191489362\n",
            "Val acc:  26.384943181818183 Val loss:  2.6757198680530894\n",
            "Epoch  4 Loss:  2.4305648803710938\n",
            "acc:  41.3741134751773\n",
            "Val acc:  25.49715909090909 Val loss:  2.6803490031849253\n",
            "Epoch  5 Loss:  1.845369815826416\n",
            "acc:  41.93040780141844\n",
            "Val acc:  25.88778409090909 Val loss:  2.6786882227117363\n",
            "Epoch  6 Loss:  1.8202470541000366\n",
            "acc:  41.850620567375884\n",
            "Val acc:  25.78125 Val loss:  2.6491092335094106\n",
            "Epoch  7 Loss:  1.99307119846344\n",
            "acc:  42.05452127659574\n",
            "Val acc:  26.633522727272727 Val loss:  2.6260372508655894\n",
            "Epoch  8 Loss:  2.364382743835449\n",
            "acc:  41.850620567375884\n",
            "Val acc:  24.32528409090909 Val loss:  2.737028642134233\n",
            "Epoch  9 Loss:  2.3322060108184814\n",
            "acc:  42.02570921985816\n",
            "Val acc:  23.899147727272727 Val loss:  2.7096053036776455\n",
            "Epoch  10 Loss:  2.130720853805542\n",
            "acc:  41.921542553191486\n",
            "Val acc:  24.041193181818183 Val loss:  2.7125252810391514\n",
            "Epoch  11 Loss:  2.5929980278015137\n",
            "acc:  42.17198581560284\n",
            "Val acc:  24.609375 Val loss:  2.720529729669744\n",
            "Epoch  12 Loss:  1.9559518098831177\n",
            "acc:  42.1875\n",
            "Val acc:  26.491477272727273 Val loss:  2.675411571155895\n",
            "Epoch  13 Loss:  2.148885726928711\n",
            "acc:  42.180851063829785\n",
            "Val acc:  25.035511363636363 Val loss:  2.703899210149592\n",
            "Epoch  14 Loss:  2.1605772972106934\n",
            "acc:  42.052304964539005\n",
            "Val acc:  24.857954545454547 Val loss:  2.6992664337158203\n",
            "Epoch  15 Loss:  2.2930734157562256\n",
            "acc:  41.80629432624114\n",
            "Val acc:  26.242897727272727 Val loss:  2.6604796322909268\n",
            "Epoch  16 Loss:  2.289599895477295\n",
            "acc:  42.475620567375884\n",
            "Val acc:  25.0 Val loss:  2.6477655930952593\n",
            "Epoch  17 Loss:  1.8700517416000366\n",
            "acc:  42.067819148936174\n",
            "Val acc:  26.349431818181817 Val loss:  2.651802756569602\n",
            "Epoch  18 Loss:  2.4207868576049805\n",
            "acc:  42.289450354609926\n",
            "Val acc:  25.0 Val loss:  2.677999669855291\n",
            "Epoch  19 Loss:  2.2658984661102295\n",
            "acc:  42.33156028368794\n",
            "Val acc:  25.816761363636363 Val loss:  2.6448102430863814\n",
            "Epoch  20 Loss:  2.1586687564849854\n",
            "acc:  42.178634751773046\n",
            "Val acc:  25.035511363636363 Val loss:  2.6638259887695312\n",
            "Epoch  21 Loss:  2.3540306091308594\n",
            "acc:  42.898936170212764\n",
            "Val acc:  25.88778409090909 Val loss:  2.667424808848988\n",
            "Epoch  22 Loss:  2.3056256771087646\n",
            "acc:  42.14760638297872\n",
            "Val acc:  24.467329545454547 Val loss:  2.717159791426225\n",
            "Epoch  23 Loss:  2.0482280254364014\n",
            "acc:  41.757535460992905\n",
            "Val acc:  24.928977272727273 Val loss:  2.716303218494762\n",
            "Epoch  24 Loss:  1.930889368057251\n",
            "acc:  42.42242907801418\n",
            "Val acc:  25.071022727272727 Val loss:  2.704932299527255\n"
          ],
          "name": "stdout"
        }
      ]
    },
    {
      "cell_type": "code",
      "metadata": {
        "colab": {
          "base_uri": "https://localhost:8080/"
        },
        "id": "9EbNfTFk-CH0",
        "outputId": "3a32a92e-aa88-4d23-88eb-384fc018a302"
      },
      "source": [
        "for param_group in optimiser.param_groups:\n",
        "        param_group['lr'] = learning_rate/80\n",
        "train(25, gen, vgen)"
      ],
      "execution_count": null,
      "outputs": [
        {
          "output_type": "stream",
          "text": [
            "Epoch  0 Loss:  1.9460572004318237\n",
            "acc:  42.24512411347518\n",
            "Val acc:  25.426136363636363 Val loss:  2.686746423894709\n",
            "Epoch  1 Loss:  1.870997428894043\n",
            "acc:  42.506648936170215\n",
            "Val acc:  25.78125 Val loss:  2.6741178685968574\n",
            "Epoch  2 Loss:  2.106154680252075\n",
            "acc:  42.76152482269504\n",
            "Val acc:  27.84090909090909 Val loss:  2.5963387922807173\n",
            "Epoch  3 Loss:  1.9871060848236084\n"
          ],
          "name": "stdout"
        }
      ]
    },
    {
      "cell_type": "code",
      "metadata": {
        "colab": {
          "base_uri": "https://localhost:8080/"
        },
        "id": "DvY7rcjt-FFE",
        "outputId": "154454de-36b8-4c75-8b5f-d00f8fb26edd"
      },
      "source": [
        "for param_group in optimiser.param_groups:\n",
        "        param_group['lr'] = learning_rate/240\n",
        "\n",
        "train(25, gen, vgen)"
      ],
      "execution_count": 19,
      "outputs": [
        {
          "output_type": "stream",
          "text": [
            "Epoch  0 Loss:  1.9967155456542969\n",
            "acc:  42.823581560283685\n",
            "Val acc:  25.816761363636363 Val loss:  2.6812537800181997\n",
            "Epoch  1 Loss:  2.023739814758301\n",
            "acc:  42.229609929078016\n",
            "Val acc:  24.786931818181817 Val loss:  2.7573027177290483\n",
            "Epoch  2 Loss:  2.0311708450317383\n",
            "acc:  42.234042553191486\n",
            "Val acc:  26.953125 Val loss:  2.656595056707209\n",
            "Epoch  3 Loss:  2.211827039718628\n",
            "acc:  42.475620567375884\n",
            "Val acc:  26.207386363636363 Val loss:  2.6873491460626777\n",
            "Epoch  4 Loss:  2.21423602104187\n",
            "acc:  42.51551418439716\n",
            "Val acc:  27.414772727272727 Val loss:  2.6399881189519707\n",
            "Epoch  5 Loss:  2.029850482940674\n",
            "acc:  42.81693262411348\n",
            "Val acc:  28.23153409090909 Val loss:  2.653974706476385\n",
            "Epoch  6 Loss:  2.0164244174957275\n",
            "acc:  42.52216312056738\n",
            "Val acc:  26.420454545454547 Val loss:  2.68274602023038\n",
            "Epoch  7 Loss:  2.178403615951538\n",
            "acc:  42.83244680851064\n",
            "Val acc:  26.775568181818183 Val loss:  2.620539058338512\n",
            "Epoch  8 Loss:  2.2798562049865723\n",
            "acc:  42.5886524822695\n",
            "Val acc:  26.704545454545453 Val loss:  2.62264702536843\n",
            "Epoch  9 Loss:  2.0364742279052734\n",
            "acc:  42.176418439716315\n",
            "Val acc:  25.923295454545453 Val loss:  2.6734369451349433\n",
            "Epoch  10 Loss:  2.089893102645874\n",
            "acc:  42.5886524822695\n",
            "Val acc:  26.029829545454547 Val loss:  2.682795611294833\n",
            "Epoch  11 Loss:  1.8974004983901978\n",
            "acc:  42.726063829787236\n",
            "Val acc:  26.242897727272727 Val loss:  2.6445824016224253\n",
            "Epoch  12 Loss:  1.9122480154037476\n",
            "acc:  43.16489361702128\n",
            "Val acc:  25.852272727272727 Val loss:  2.6779958551580254\n",
            "Epoch  13 Loss:  2.251530408859253\n",
            "acc:  42.61524822695036\n",
            "Val acc:  25.177556818181817 Val loss:  2.69179274819114\n",
            "Epoch  14 Loss:  1.9613217115402222\n",
            "acc:  42.712765957446805\n",
            "Val acc:  24.183238636363637 Val loss:  2.7120387337424536\n",
            "Epoch  15 Loss:  2.26358699798584\n",
            "acc:  42.947695035460995\n",
            "Val acc:  25.142045454545453 Val loss:  2.6471840251575816\n",
            "Epoch  16 Loss:  1.9131087064743042\n",
            "acc:  42.819148936170215\n",
            "Val acc:  25.142045454545453 Val loss:  2.6461368907581675\n",
            "Epoch  17 Loss:  2.310455560684204\n",
            "acc:  42.75709219858156\n",
            "Val acc:  24.857954545454547 Val loss:  2.6905091025612573\n",
            "Epoch  18 Loss:  1.9054185152053833\n",
            "acc:  42.24512411347518\n",
            "Val acc:  25.0 Val loss:  2.6982848427512427\n",
            "Epoch  19 Loss:  2.0476438999176025\n",
            "acc:  42.178634751773046\n",
            "Val acc:  26.420454545454547 Val loss:  2.695104252208363\n",
            "Epoch  20 Loss:  2.0894839763641357\n",
            "acc:  42.196365248226954\n",
            "Val acc:  24.360795454545453 Val loss:  2.715587789362127\n",
            "Epoch  21 Loss:  2.1579794883728027\n",
            "acc:  42.267287234042556\n",
            "Val acc:  26.171875 Val loss:  2.651081085205078\n",
            "Epoch  22 Loss:  2.166710138320923\n",
            "acc:  42.68395390070922\n",
            "Val acc:  27.024147727272727 Val loss:  2.6181247017600318\n",
            "Epoch  23 Loss:  1.707629680633545\n",
            "acc:  42.01906028368794\n",
            "Val acc:  25.532670454545453 Val loss:  2.6829554817893286\n",
            "Epoch  24 Loss:  2.349844217300415\n",
            "acc:  42.66179078014184\n",
            "Val acc:  24.609375 Val loss:  2.7155309156938032\n"
          ],
          "name": "stdout"
        }
      ]
    },
    {
      "cell_type": "code",
      "metadata": {
        "colab": {
          "base_uri": "https://localhost:8080/"
        },
        "id": "D5AfSQdh-GrF",
        "outputId": "f366f6d7-abc5-4959-a105-a0ed55ef1b45"
      },
      "source": [
        "for param_group in optimiser.param_groups:\n",
        "        param_group['lr'] = learning_rate/720\n",
        "\n",
        "train(25, gen, vgen)"
      ],
      "execution_count": 20,
      "outputs": [
        {
          "output_type": "stream",
          "text": [
            "Epoch  0 Loss:  2.2304999828338623\n",
            "acc:  42.471187943262414\n",
            "Val acc:  26.704545454545453 Val loss:  2.6211185455322266\n",
            "Epoch  1 Loss:  1.9987725019454956\n",
            "acc:  42.66400709219858\n",
            "Val acc:  25.49715909090909 Val loss:  2.6883728720925073\n",
            "Epoch  2 Loss:  2.2178640365600586\n",
            "acc:  42.471187943262414\n",
            "Val acc:  25.355113636363637 Val loss:  2.694019317626953\n",
            "Epoch  3 Loss:  2.101149559020996\n",
            "acc:  42.6063829787234\n",
            "Val acc:  26.171875 Val loss:  2.66247541254217\n",
            "Epoch  4 Loss:  2.022670269012451\n",
            "acc:  43.060726950354606\n",
            "Val acc:  25.88778409090909 Val loss:  2.7000444585626777\n",
            "Epoch  5 Loss:  1.9879670143127441\n",
            "acc:  42.77482269503546\n",
            "Val acc:  25.49715909090909 Val loss:  2.7085819244384766\n",
            "Epoch  6 Loss:  2.208544969558716\n",
            "acc:  42.5354609929078\n",
            "Val acc:  25.532670454545453 Val loss:  2.708743008700284\n",
            "Epoch  7 Loss:  2.076159715652466\n",
            "acc:  42.398049645390074\n",
            "Val acc:  26.100852272727273 Val loss:  2.694682901555842\n",
            "Epoch  8 Loss:  2.095120429992676\n",
            "acc:  42.75265957446808\n",
            "Val acc:  24.183238636363637 Val loss:  2.6995488947088067\n",
            "Epoch  9 Loss:  2.242253303527832\n",
            "acc:  42.28280141843972\n",
            "Val acc:  26.384943181818183 Val loss:  2.6751989884810015\n",
            "Epoch  10 Loss:  2.1460072994232178\n",
            "acc:  42.88785460992908\n",
            "Val acc:  25.568181818181817 Val loss:  2.6704767400568183\n",
            "Epoch  11 Loss:  2.480802536010742\n",
            "acc:  42.601950354609926\n",
            "Val acc:  24.396306818181817 Val loss:  2.6735220822420986\n",
            "Epoch  12 Loss:  2.2669222354888916\n",
            "acc:  43.1781914893617\n",
            "Val acc:  25.49715909090909 Val loss:  2.678892135620117\n",
            "Epoch  13 Loss:  2.2894139289855957\n",
            "acc:  42.69725177304964\n",
            "Val acc:  26.420454545454547 Val loss:  2.6915017908269707\n",
            "Epoch  14 Loss:  2.3953707218170166\n",
            "acc:  42.7061170212766\n",
            "Val acc:  25.426136363636363 Val loss:  2.6542015075683594\n",
            "Epoch  15 Loss:  2.2178382873535156\n",
            "acc:  42.420212765957444\n",
            "Val acc:  25.532670454545453 Val loss:  2.644221219149503\n",
            "Epoch  16 Loss:  2.48494291305542\n",
            "acc:  42.61303191489362\n",
            "Val acc:  25.426136363636363 Val loss:  2.6739191575483843\n",
            "Epoch  17 Loss:  2.335951328277588\n",
            "acc:  42.55097517730496\n",
            "Val acc:  25.248579545454547 Val loss:  2.669206445867365\n",
            "Epoch  18 Loss:  1.9488325119018555\n",
            "acc:  42.26507092198582\n",
            "Val acc:  25.071022727272727 Val loss:  2.6898238442160864\n",
            "Epoch  19 Loss:  2.109863042831421\n",
            "acc:  42.62632978723404\n",
            "Val acc:  25.213068181818183 Val loss:  2.705813321200284\n",
            "Epoch  20 Loss:  2.002490520477295\n",
            "acc:  42.916666666666664\n",
            "Val acc:  26.5625 Val loss:  2.672413392500444\n",
            "Epoch  21 Loss:  2.0240402221679688\n",
            "acc:  42.453457446808514\n",
            "Val acc:  24.467329545454547 Val loss:  2.700319463556463\n",
            "Epoch  22 Loss:  2.0000979900360107\n",
            "acc:  42.97872340425532\n",
            "Val acc:  26.384943181818183 Val loss:  2.650522752241655\n",
            "Epoch  23 Loss:  1.885939359664917\n",
            "acc:  42.229609929078016\n",
            "Val acc:  26.171875 Val loss:  2.671926498413086\n",
            "Epoch  24 Loss:  2.1113369464874268\n",
            "acc:  42.415780141843975\n",
            "Val acc:  25.994318181818183 Val loss:  2.695301749489524\n"
          ],
          "name": "stdout"
        }
      ]
    },
    {
      "cell_type": "code",
      "metadata": {
        "colab": {
          "base_uri": "https://localhost:8080/",
          "height": 297
        },
        "id": "QQ1GpEeK-h5y",
        "outputId": "4d2ce5df-26c5-4b45-f4ab-02d09dacda82"
      },
      "source": [
        "plot_fit_history(hist)\n"
      ],
      "execution_count": 21,
      "outputs": [
        {
          "output_type": "display_data",
          "data": {
            "image/png": "[encoded data removed]",
            "text/plain": [
              "<Figure size 432x288 with 2 Axes>"
            ]
          },
          "metadata": {
            "tags": [],
            "needs_background": "light"
          }
        }
      ]
    },
    {
      "cell_type": "code",
      "metadata": {
        "id": "iS4re3YL-zhw"
      },
      "source": [
        ""
      ],
      "execution_count": 21,
      "outputs": []
    }
  ]
}